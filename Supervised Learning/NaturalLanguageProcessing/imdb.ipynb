{
 "cells": [
  {
   "cell_type": "code",
   "execution_count": 5,
   "metadata": {},
   "outputs": [],
   "source": [
    "import tensorflow as tf\n",
    "from tensorflow import keras\n",
    "from tensorflow.keras.preprocessing.text import Tokenizer\n",
    "import tensorflow_datasets as tfds\n",
    "import numpy as np\n",
    "from bs4 import BeautifulSoup\n",
    "import string"
   ]
  },
  {
   "cell_type": "code",
   "execution_count": 6,
   "metadata": {},
   "outputs": [
    {
     "name": "stderr",
     "output_type": "stream",
     "text": [
      "C:\\Users\\mahaj\\AppData\\Roaming\\Python\\Python39\\site-packages\\bs4\\__init__.py:435: MarkupResemblesLocatorWarning: The input looks more like a filename than markup. You may want to open this file and pass the filehandle into Beautiful Soup.\n",
      "  warnings.warn(\n"
     ]
    }
   ],
   "source": [
    "stopwords = [] # list of stopwords\n",
    "table = str.maketrans('', '', string.punctuation) # table of punctuation\n",
    "\n",
    "imdb_sentences = []\n",
    "train_data = tfds.as_numpy(tfds.load(\"imdb_reviews\", split=\"train\"))\n",
    "for item in train_data:\n",
    "    sentence = str(item[\"text\"].decode(\"utf-8\").lower())\n",
    "    sentence = BeautifulSoup(sentence).get_text()\n",
    "    words = sentence.split()\n",
    "    filtered_sentence = [w.translate(table) for w in words if not w in stopwords]\n",
    "    filtered_sentence = \" \".join(filtered_sentence)\n",
    "    imdb_sentences.append(filtered_sentence)"
   ]
  },
  {
   "cell_type": "code",
   "execution_count": null,
   "metadata": {},
   "outputs": [],
   "source": [
    "tokenizer = Tokenizer(num_words=2000)\n",
    "tokenizer.fit_on_texts(imdb_sentences)\n",
    "sequences = tokenizer.texts_to_sequences(imdb_sentences)"
   ]
  },
  {
   "cell_type": "code",
   "execution_count": null,
   "metadata": {},
   "outputs": [],
   "source": [
    "## Subwords Dataset\n",
    "# (train_data, test_data), info = tfds.load(\"imdb_reviews/subwords8k\", split=(tfds.Split.TRAIN, tfds.Split.TEST), with_info=True)\n",
    "# encoder = info.features[\"text\"].encoder\n",
    "# encoder.encode(string)\n",
    "# encoder.decode([1, 2, 3])"
   ]
  }
 ],
 "metadata": {
  "kernelspec": {
   "display_name": "Python 3.9.0 64-bit",
   "language": "python",
   "name": "python3"
  },
  "language_info": {
   "codemirror_mode": {
    "name": "ipython",
    "version": 3
   },
   "file_extension": ".py",
   "mimetype": "text/x-python",
   "name": "python",
   "nbconvert_exporter": "python",
   "pygments_lexer": "ipython3",
   "version": "3.9.0"
  },
  "orig_nbformat": 4,
  "vscode": {
   "interpreter": {
    "hash": "11938c6bc6919ae2720b4d5011047913343b08a43b18698fd82dedb0d4417594"
   }
  }
 },
 "nbformat": 4,
 "nbformat_minor": 2
}
