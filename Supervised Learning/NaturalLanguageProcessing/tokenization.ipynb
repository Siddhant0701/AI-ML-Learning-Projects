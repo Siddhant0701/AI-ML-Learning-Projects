{
 "cells": [
  {
   "cell_type": "code",
   "execution_count": 24,
   "metadata": {},
   "outputs": [],
   "source": [
    "import tensorflow as tf\n",
    "from tensorflow import keras\n",
    "from tensorflow.keras.preprocessing.text import Tokenizer\n",
    "from tensorflow.keras.preprocessing.sequence import pad_sequences\n",
    "from bs4 import BeautifulSoup\n",
    "import string"
   ]
  },
  {
   "cell_type": "code",
   "execution_count": 15,
   "metadata": {},
   "outputs": [],
   "source": [
    "sentences = [\n",
    "    'Today is a sunny day',\n",
    "    'Today is a rainy day',\n",
    "    'Is it a sunny day?'\n",
    "]\n",
    "\n",
    "test_data = [\n",
    "    'Today is a snowy day',\n",
    "    'Will it be rainy tomorrow?',\n",
    "    'Hello'\n",
    "]"
   ]
  },
  {
   "cell_type": "code",
   "execution_count": 16,
   "metadata": {},
   "outputs": [
    {
     "name": "stdout",
     "output_type": "stream",
     "text": [
      "[[5 2 3 1 4]\n",
      " [1 8 1 7 1]\n",
      " [1 0 0 0 0]]\n"
     ]
    }
   ],
   "source": [
    "tokenizer = Tokenizer(num_words=100, oov_token='<OOV>')\n",
    "tokenizer.fit_on_texts(sentences)\n",
    "word_index = tokenizer.word_index\n",
    "\n",
    "sequences = tokenizer.texts_to_sequences(test_data)\n",
    "\n",
    "padded = pad_sequences(sequences, maxlen=5, padding='post', truncating='post')\n",
    "print(padded)"
   ]
  },
  {
   "cell_type": "code",
   "execution_count": 19,
   "metadata": {},
   "outputs": [
    {
     "name": "stdout",
     "output_type": "stream",
     "text": [
      "Hello,  This is my new sentence.\n"
     ]
    }
   ],
   "source": [
    "## Stripping html tags\n",
    "sentence = \"Hello, <br> This is my new sentence.\"\n",
    "soup = BeautifulSoup(sentence)\n",
    "sentence = soup.get_text()\n",
    "print(sentence)"
   ]
  },
  {
   "cell_type": "code",
   "execution_count": 23,
   "metadata": {},
   "outputs": [
    {
     "name": "stdout",
     "output_type": "stream",
     "text": [
      "Hello, new sentence.\n"
     ]
    }
   ],
   "source": [
    "## Removing stopwords\n",
    "stopwords = [\"a\", \"about\", \"above\", \"yours\", \"yourself\", \"yourselves\", \"is\", \"my\", \"This\"]\n",
    "words = sentence.split()\n",
    "filteredsentence = [w for w in words if not w in stopwords]\n",
    "filteredsentence = \" \".join(filteredsentence)\n",
    "print(filteredsentence)\n"
   ]
  },
  {
   "cell_type": "code",
   "execution_count": 25,
   "metadata": {},
   "outputs": [
    {
     "name": "stdout",
     "output_type": "stream",
     "text": [
      "Hello new sentence\n"
     ]
    }
   ],
   "source": [
    "## Removing punctuation\n",
    "table = str.maketrans('', '', string.punctuation)\n",
    "words = sentence.split()\n",
    "filteredsentence = [w.translate(table) for w in words if w not in stopwords]\n",
    "filteredsentence = \" \".join(filteredsentence)\n",
    "print(filteredsentence)\n"
   ]
  }
 ],
 "metadata": {
  "kernelspec": {
   "display_name": "Python 3.9.0 64-bit",
   "language": "python",
   "name": "python3"
  },
  "language_info": {
   "codemirror_mode": {
    "name": "ipython",
    "version": 3
   },
   "file_extension": ".py",
   "mimetype": "text/x-python",
   "name": "python",
   "nbconvert_exporter": "python",
   "pygments_lexer": "ipython3",
   "version": "3.9.0"
  },
  "orig_nbformat": 4,
  "vscode": {
   "interpreter": {
    "hash": "11938c6bc6919ae2720b4d5011047913343b08a43b18698fd82dedb0d4417594"
   }
  }
 },
 "nbformat": 4,
 "nbformat_minor": 2
}
