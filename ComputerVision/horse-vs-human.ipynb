{
 "cells": [
  {
   "cell_type": "code",
   "execution_count": 1,
   "metadata": {},
   "outputs": [],
   "source": [
    "import urllib.request\n",
    "import zipfile\n",
    "import tensorflow as tf\n",
    "import numpy as np\n",
    "from tensorflow.keras.preprocessing.image import ImageDataGenerator,\\\n",
    "    load_img, img_to_array"
   ]
  },
  {
   "cell_type": "code",
   "execution_count": 2,
   "metadata": {},
   "outputs": [],
   "source": [
    "url = \"https://storage.googleapis.com/laurencemoroney-blog.appspot.com/horse-or-human.zip\"\n",
    "validation_url = \"https://storage.googleapis.com/laurencemoroney-blog.appspot.com/validation-horse-or-human.zip\""
   ]
  },
  {
   "cell_type": "code",
   "execution_count": 3,
   "metadata": {},
   "outputs": [
    {
     "data": {
      "text/plain": [
       "('horse-or-human.zip', <http.client.HTTPMessage at 0x21952933df0>)"
      ]
     },
     "execution_count": 3,
     "metadata": {},
     "output_type": "execute_result"
    }
   ],
   "source": [
    "file_name = \"horse-or-human.zip\"\n",
    "training_dir = r'horse-or-human/training/'\n",
    "urllib.request.urlretrieve(url, file_name)"
   ]
  },
  {
   "cell_type": "code",
   "execution_count": 4,
   "metadata": {},
   "outputs": [
    {
     "data": {
      "text/plain": [
       "('validation-horse-or-human.zip', <http.client.HTTPMessage at 0x2195292e670>)"
      ]
     },
     "execution_count": 4,
     "metadata": {},
     "output_type": "execute_result"
    }
   ],
   "source": [
    "validation_file_name = \"validation-horse-or-human.zip\"\n",
    "validation_dir = r'horse-or-human/validation/'\n",
    "urllib.request.urlretrieve(validation_url, validation_file_name)"
   ]
  },
  {
   "cell_type": "code",
   "execution_count": 5,
   "metadata": {},
   "outputs": [],
   "source": [
    "zip_ref = zipfile.ZipFile(file_name,'r')\n",
    "zip_ref.extractall(training_dir)\n",
    "zip_ref.close()"
   ]
  },
  {
   "cell_type": "code",
   "execution_count": 6,
   "metadata": {},
   "outputs": [],
   "source": [
    "zip_ref = zipfile.ZipFile(validation_file_name, 'r')\n",
    "zip_ref.extractall(validation_dir)\n",
    "zip_ref.close()"
   ]
  },
  {
   "cell_type": "code",
   "execution_count": 21,
   "metadata": {},
   "outputs": [
    {
     "name": "stdout",
     "output_type": "stream",
     "text": [
      "Found 1027 images belonging to 2 classes.\n"
     ]
    }
   ],
   "source": [
    "train_datagen = ImageDataGenerator(\n",
    "    rescale=1./255,\n",
    "    rotation_range=40,\n",
    "    width_shift_range=0.2,\n",
    "    height_shift_range=0.2,\n",
    "    shear_range=0.2,\n",
    "    zoom_range=0.2,\n",
    "    horizontal_flip=True,\n",
    "    fill_mode='nearest'\n",
    ")\n",
    "\n",
    "train_generator = train_datagen.flow_from_directory(\n",
    "    training_dir,\n",
    "    target_size=(300,300),\n",
    "    class_mode='binary'\n",
    ")"
   ]
  },
  {
   "cell_type": "code",
   "execution_count": 22,
   "metadata": {},
   "outputs": [
    {
     "name": "stdout",
     "output_type": "stream",
     "text": [
      "Found 256 images belonging to 2 classes.\n"
     ]
    }
   ],
   "source": [
    "validation_datagen = ImageDataGenerator(\n",
    "    rescale=1./255,\n",
    "    rotation_range=40,\n",
    "    width_shift_range=0.2,\n",
    "    height_shift_range=0.2,\n",
    "    shear_range=0.2,\n",
    "    zoom_range=0.2,\n",
    "    horizontal_flip=True,\n",
    "    fill_mode='nearest'\n",
    ")\n",
    "\n",
    "validation_generator = validation_datagen.flow_from_directory(\n",
    "    validation_dir,\n",
    "    target_size=(300,300),\n",
    "    class_mode='binary'\n",
    ")"
   ]
  },
  {
   "cell_type": "code",
   "execution_count": 23,
   "metadata": {},
   "outputs": [],
   "source": [
    "model = tf.keras.models.Sequential([\n",
    "    tf.keras.layers.Conv2D(16, (3,3), activation='relu', input_shape=(300,300,3)),\n",
    "    tf.keras.layers.MaxPooling2D(2,2),\n",
    "    tf.keras.layers.Conv2D(32, (3,3), activation='relu'),\n",
    "    tf.keras.layers.MaxPooling2D(2,2),\n",
    "    tf.keras.layers.Conv2D(64, (3,3), activation='relu'),\n",
    "    tf.keras.layers.MaxPooling2D(2,2),\n",
    "    tf.keras.layers.Conv2D(64, (3,3), activation='relu'),\n",
    "    tf.keras.layers.MaxPooling2D(2,2),\n",
    "    tf.keras.layers.Conv2D(64, (3,3), activation='relu'),\n",
    "    tf.keras.layers.MaxPooling2D(2,2),\n",
    "    tf.keras.layers.Flatten(),\n",
    "    tf.keras.layers.Dense(512, activation='relu'),\n",
    "    tf.keras.layers.Dense(1, activation='sigmoid')\n",
    "])"
   ]
  },
  {
   "cell_type": "code",
   "execution_count": 24,
   "metadata": {},
   "outputs": [
    {
     "name": "stdout",
     "output_type": "stream",
     "text": [
      "Model: \"sequential_1\"\n",
      "_________________________________________________________________\n",
      " Layer (type)                Output Shape              Param #   \n",
      "=================================================================\n",
      " conv2d_5 (Conv2D)           (None, 298, 298, 16)      448       \n",
      "                                                                 \n",
      " max_pooling2d_5 (MaxPooling  (None, 149, 149, 16)     0         \n",
      " 2D)                                                             \n",
      "                                                                 \n",
      " conv2d_6 (Conv2D)           (None, 147, 147, 32)      4640      \n",
      "                                                                 \n",
      " max_pooling2d_6 (MaxPooling  (None, 73, 73, 32)       0         \n",
      " 2D)                                                             \n",
      "                                                                 \n",
      " conv2d_7 (Conv2D)           (None, 71, 71, 64)        18496     \n",
      "                                                                 \n",
      " max_pooling2d_7 (MaxPooling  (None, 35, 35, 64)       0         \n",
      " 2D)                                                             \n",
      "                                                                 \n",
      " conv2d_8 (Conv2D)           (None, 33, 33, 64)        36928     \n",
      "                                                                 \n",
      " max_pooling2d_8 (MaxPooling  (None, 16, 16, 64)       0         \n",
      " 2D)                                                             \n",
      "                                                                 \n",
      " conv2d_9 (Conv2D)           (None, 14, 14, 64)        36928     \n",
      "                                                                 \n",
      " max_pooling2d_9 (MaxPooling  (None, 7, 7, 64)         0         \n",
      " 2D)                                                             \n",
      "                                                                 \n",
      " flatten_1 (Flatten)         (None, 3136)              0         \n",
      "                                                                 \n",
      " dense_2 (Dense)             (None, 512)               1606144   \n",
      "                                                                 \n",
      " dense_3 (Dense)             (None, 1)                 513       \n",
      "                                                                 \n",
      "=================================================================\n",
      "Total params: 1,704,097\n",
      "Trainable params: 1,704,097\n",
      "Non-trainable params: 0\n",
      "_________________________________________________________________\n"
     ]
    }
   ],
   "source": [
    "model.summary()"
   ]
  },
  {
   "cell_type": "code",
   "execution_count": 25,
   "metadata": {},
   "outputs": [],
   "source": [
    "opt = tf.keras.optimizers.RMSprop(learning_rate=0.001)\n",
    "\n",
    "model.compile(loss='binary_crossentropy',\n",
    "    optimizer=opt,\n",
    "    metrics=['accuracy'])"
   ]
  },
  {
   "cell_type": "code",
   "execution_count": 26,
   "metadata": {},
   "outputs": [
    {
     "name": "stdout",
     "output_type": "stream",
     "text": [
      "Epoch 1/15\n",
      "33/33 [==============================] - 42s 1s/step - loss: 0.7717 - accuracy: 0.5998 - val_loss: 0.6888 - val_accuracy: 0.6641\n",
      "Epoch 2/15\n",
      "33/33 [==============================] - 40s 1s/step - loss: 0.6482 - accuracy: 0.6904 - val_loss: 1.1469 - val_accuracy: 0.4961\n",
      "Epoch 3/15\n",
      "33/33 [==============================] - 40s 1s/step - loss: 0.5271 - accuracy: 0.7644 - val_loss: 1.9204 - val_accuracy: 0.5039\n",
      "Epoch 4/15\n",
      "33/33 [==============================] - 53s 2s/step - loss: 0.4529 - accuracy: 0.7984 - val_loss: 3.9210 - val_accuracy: 0.5000\n",
      "Epoch 5/15\n",
      "33/33 [==============================] - 46s 1s/step - loss: 0.4503 - accuracy: 0.8014 - val_loss: 1.1514 - val_accuracy: 0.5117\n",
      "Epoch 6/15\n",
      "33/33 [==============================] - 40s 1s/step - loss: 0.3465 - accuracy: 0.8481 - val_loss: 2.2208 - val_accuracy: 0.5078\n",
      "Epoch 7/15\n",
      "33/33 [==============================] - 40s 1s/step - loss: 0.3309 - accuracy: 0.8754 - val_loss: 0.7879 - val_accuracy: 0.5859\n",
      "Epoch 8/15\n",
      "33/33 [==============================] - 40s 1s/step - loss: 0.2327 - accuracy: 0.9143 - val_loss: 6.2083 - val_accuracy: 0.5000\n",
      "Epoch 9/15\n",
      "33/33 [==============================] - 43s 1s/step - loss: 0.2781 - accuracy: 0.9007 - val_loss: 1.2386 - val_accuracy: 0.6367\n",
      "Epoch 10/15\n",
      "33/33 [==============================] - 46s 1s/step - loss: 0.3765 - accuracy: 0.8968 - val_loss: 1.0118 - val_accuracy: 0.6758\n",
      "Epoch 11/15\n",
      "33/33 [==============================] - 41s 1s/step - loss: 0.1738 - accuracy: 0.9396 - val_loss: 0.5023 - val_accuracy: 0.8516\n",
      "Epoch 12/15\n",
      "33/33 [==============================] - 39s 1s/step - loss: 0.1792 - accuracy: 0.9221 - val_loss: 1.2486 - val_accuracy: 0.7383\n",
      "Epoch 13/15\n",
      "33/33 [==============================] - 38s 1s/step - loss: 0.1480 - accuracy: 0.9396 - val_loss: 2.4025 - val_accuracy: 0.6133\n",
      "Epoch 14/15\n",
      "33/33 [==============================] - 40s 1s/step - loss: 0.1563 - accuracy: 0.9494 - val_loss: 1.9836 - val_accuracy: 0.6836\n",
      "Epoch 15/15\n",
      "33/33 [==============================] - 38s 1s/step - loss: 0.1262 - accuracy: 0.9542 - val_loss: 1.9542 - val_accuracy: 0.6914\n"
     ]
    }
   ],
   "source": [
    "history = model.fit(train_generator, epochs = 15, validation_data=validation_generator)"
   ]
  },
  {
   "cell_type": "code",
   "execution_count": 15,
   "metadata": {},
   "outputs": [],
   "source": [
    "img= load_img('./horse-or-human/training/horses/horse01-0.png', target_size=(300,300))\n",
    "x= img_to_array(img)\n",
    "x= np.expand_dims(x,axis=0)"
   ]
  },
  {
   "cell_type": "code",
   "execution_count": 20,
   "metadata": {},
   "outputs": [
    {
     "name": "stdout",
     "output_type": "stream",
     "text": [
      "Horse\n"
     ]
    }
   ],
   "source": [
    "image_tensor = np.vstack([x])\n",
    "classes = model.predict(image_tensor)\n",
    "\n",
    "if (classes[0] > 0.5):\n",
    "    print(\"Human\")\n",
    "else:\n",
    "    print(\"Horse\")"
   ]
  }
 ],
 "metadata": {
  "interpreter": {
   "hash": "11938c6bc6919ae2720b4d5011047913343b08a43b18698fd82dedb0d4417594"
  },
  "kernelspec": {
   "display_name": "Python 3.9.0 64-bit",
   "language": "python",
   "name": "python3"
  },
  "language_info": {
   "codemirror_mode": {
    "name": "ipython",
    "version": 3
   },
   "file_extension": ".py",
   "mimetype": "text/x-python",
   "name": "python",
   "nbconvert_exporter": "python",
   "pygments_lexer": "ipython3",
   "version": "3.9.0"
  },
  "orig_nbformat": 4
 },
 "nbformat": 4,
 "nbformat_minor": 2
}
