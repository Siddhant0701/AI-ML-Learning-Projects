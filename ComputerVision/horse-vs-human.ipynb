{
 "cells": [
  {
   "cell_type": "code",
   "execution_count": 17,
   "metadata": {},
   "outputs": [],
   "source": [
    "import urllib.request\n",
    "import zipfile\n",
    "import tensorflow as tf\n",
    "from tensorflow.keras.preprocessing.image import ImageDataGenerator"
   ]
  },
  {
   "cell_type": "code",
   "execution_count": 28,
   "metadata": {},
   "outputs": [],
   "source": [
    "url = \"https://storage.googleapis.com/laurencemoroney-blog.appspot.com/horse-or-human.zip\"\n",
    "validation_url = \"https://storage.googleapis.com/laurencemoroney-blog.appspot.com/validation-horse-or-human.zip\""
   ]
  },
  {
   "cell_type": "code",
   "execution_count": 11,
   "metadata": {},
   "outputs": [
    {
     "data": {
      "text/plain": [
       "('horse-or-human.zip', <http.client.HTTPMessage at 0x23ca65675b0>)"
      ]
     },
     "execution_count": 11,
     "metadata": {},
     "output_type": "execute_result"
    }
   ],
   "source": [
    "file_name = \"horse-or-human.zip\"\n",
    "training_dir = r'horse-or-human/training/'\n",
    "urllib.request.urlretrieve(url, file_name)"
   ]
  },
  {
   "cell_type": "code",
   "execution_count": 29,
   "metadata": {},
   "outputs": [
    {
     "data": {
      "text/plain": [
       "('validation-horse-or-human.zip', <http.client.HTTPMessage at 0x23ce3a82400>)"
      ]
     },
     "execution_count": 29,
     "metadata": {},
     "output_type": "execute_result"
    }
   ],
   "source": [
    "validation_file_name = \"validation-horse-or-human.zip\"\n",
    "validation_dir = r'horse-or-human/validation/'\n",
    "urllib.request.urlretrieve(validation_url, validation_file_name)"
   ]
  },
  {
   "cell_type": "code",
   "execution_count": 15,
   "metadata": {},
   "outputs": [],
   "source": [
    "zip_ref = zipfile.ZipFile(file_name,'r')\n",
    "zip_ref.extractall(training_dir)\n",
    "zip_ref.close()"
   ]
  },
  {
   "cell_type": "code",
   "execution_count": 30,
   "metadata": {},
   "outputs": [],
   "source": [
    "zip_ref = zipfile.ZipFile(validation_file_name, 'r')\n",
    "zip_ref.extractall(validation_dir)\n",
    "zip_ref.close()"
   ]
  },
  {
   "cell_type": "code",
   "execution_count": 16,
   "metadata": {},
   "outputs": [
    {
     "name": "stdout",
     "output_type": "stream",
     "text": [
      "Found 1027 images belonging to 2 classes.\n"
     ]
    }
   ],
   "source": [
    "train_datagen = ImageDataGenerator(rescale=1/255)\n",
    "train_generator = train_datagen.flow_from_directory(\n",
    "    training_dir,\n",
    "    target_size=(300,300),\n",
    "    class_mode='binary'\n",
    ")"
   ]
  },
  {
   "cell_type": "code",
   "execution_count": 31,
   "metadata": {},
   "outputs": [
    {
     "name": "stdout",
     "output_type": "stream",
     "text": [
      "Found 256 images belonging to 2 classes.\n"
     ]
    }
   ],
   "source": [
    "validation_datagen = ImageDataGenerator(rescale=1/255)\n",
    "validation_generator = validation_datagen.flow_from_directory(\n",
    "    validation_dir,\n",
    "    target_size=(300,300),\n",
    "    class_mode='binary'\n",
    ")"
   ]
  },
  {
   "cell_type": "code",
   "execution_count": 19,
   "metadata": {},
   "outputs": [],
   "source": [
    "model = tf.keras.models.Sequential([\n",
    "    tf.keras.layers.Conv2D(16, (3,3), activation='relu', input_shape=(300,300,3)),\n",
    "    tf.keras.layers.MaxPooling2D(2,2),\n",
    "    tf.keras.layers.Conv2D(32, (3,3), activation='relu'),\n",
    "    tf.keras.layers.MaxPooling2D(2,2),\n",
    "    tf.keras.layers.Conv2D(64, (3,3), activation='relu'),\n",
    "    tf.keras.layers.MaxPooling2D(2,2),\n",
    "    tf.keras.layers.Conv2D(64, (3,3), activation='relu'),\n",
    "    tf.keras.layers.MaxPooling2D(2,2),\n",
    "    tf.keras.layers.Conv2D(64, (3,3), activation='relu'),\n",
    "    tf.keras.layers.MaxPooling2D(2,2),\n",
    "    tf.keras.layers.Flatten(),\n",
    "    tf.keras.layers.Dense(512, activation='relu'),\n",
    "    tf.keras.layers.Dense(1, activation='sigmoid')\n",
    "])"
   ]
  },
  {
   "cell_type": "code",
   "execution_count": 20,
   "metadata": {},
   "outputs": [
    {
     "name": "stdout",
     "output_type": "stream",
     "text": [
      "Model: \"sequential\"\n",
      "_________________________________________________________________\n",
      " Layer (type)                Output Shape              Param #   \n",
      "=================================================================\n",
      " conv2d (Conv2D)             (None, 298, 298, 16)      448       \n",
      "                                                                 \n",
      " max_pooling2d (MaxPooling2D  (None, 149, 149, 16)     0         \n",
      " )                                                               \n",
      "                                                                 \n",
      " conv2d_1 (Conv2D)           (None, 147, 147, 32)      4640      \n",
      "                                                                 \n",
      " max_pooling2d_1 (MaxPooling  (None, 73, 73, 32)       0         \n",
      " 2D)                                                             \n",
      "                                                                 \n",
      " conv2d_2 (Conv2D)           (None, 71, 71, 64)        18496     \n",
      "                                                                 \n",
      " max_pooling2d_2 (MaxPooling  (None, 35, 35, 64)       0         \n",
      " 2D)                                                             \n",
      "                                                                 \n",
      " conv2d_3 (Conv2D)           (None, 33, 33, 64)        36928     \n",
      "                                                                 \n",
      " max_pooling2d_3 (MaxPooling  (None, 16, 16, 64)       0         \n",
      " 2D)                                                             \n",
      "                                                                 \n",
      " conv2d_4 (Conv2D)           (None, 14, 14, 64)        36928     \n",
      "                                                                 \n",
      " max_pooling2d_4 (MaxPooling  (None, 7, 7, 64)         0         \n",
      " 2D)                                                             \n",
      "                                                                 \n",
      " flatten (Flatten)           (None, 3136)              0         \n",
      "                                                                 \n",
      " dense (Dense)               (None, 512)               1606144   \n",
      "                                                                 \n",
      " dense_1 (Dense)             (None, 1)                 513       \n",
      "                                                                 \n",
      "=================================================================\n",
      "Total params: 1,704,097\n",
      "Trainable params: 1,704,097\n",
      "Non-trainable params: 0\n",
      "_________________________________________________________________\n"
     ]
    }
   ],
   "source": [
    "model.summary()"
   ]
  },
  {
   "cell_type": "code",
   "execution_count": 25,
   "metadata": {},
   "outputs": [],
   "source": [
    "opt = tf.keras.optimizers.RMSprop(learning_rate=0.001)\n",
    "\n",
    "model.compile(loss='binary_crossentropy',\n",
    "    optimizer=opt,\n",
    "    metrics=['accuracy'])"
   ]
  },
  {
   "cell_type": "code",
   "execution_count": 32,
   "metadata": {},
   "outputs": [
    {
     "name": "stdout",
     "output_type": "stream",
     "text": [
      "Epoch 1/15\n",
      "33/33 [==============================] - 19s 555ms/step - loss: 0.2553 - accuracy: 0.9708 - val_loss: 1.6619 - val_accuracy: 0.8750\n",
      "Epoch 2/15\n",
      "33/33 [==============================] - 17s 515ms/step - loss: 0.0013 - accuracy: 1.0000 - val_loss: 1.9768 - val_accuracy: 0.8789\n",
      "Epoch 3/15\n",
      "33/33 [==============================] - 15s 448ms/step - loss: 8.5580e-05 - accuracy: 1.0000 - val_loss: 2.5004 - val_accuracy: 0.8828\n",
      "Epoch 4/15\n",
      "33/33 [==============================] - 14s 417ms/step - loss: 1.1638e-05 - accuracy: 1.0000 - val_loss: 2.7618 - val_accuracy: 0.8867\n",
      "Epoch 5/15\n",
      "33/33 [==============================] - 15s 442ms/step - loss: 1.3637e-06 - accuracy: 1.0000 - val_loss: 3.1054 - val_accuracy: 0.8984\n",
      "Epoch 6/15\n",
      "33/33 [==============================] - 14s 413ms/step - loss: 2.3889e-07 - accuracy: 1.0000 - val_loss: 3.6405 - val_accuracy: 0.8906\n",
      "Epoch 7/15\n",
      "33/33 [==============================] - 15s 455ms/step - loss: 3.0384 - accuracy: 0.9572 - val_loss: 3.4485 - val_accuracy: 0.8633\n",
      "Epoch 8/15\n",
      "33/33 [==============================] - 17s 491ms/step - loss: 0.0015 - accuracy: 1.0000 - val_loss: 4.6066 - val_accuracy: 0.8516\n",
      "Epoch 9/15\n",
      "33/33 [==============================] - 17s 519ms/step - loss: 0.1649 - accuracy: 0.9786 - val_loss: 3.1120 - val_accuracy: 0.8828\n",
      "Epoch 10/15\n",
      "33/33 [==============================] - 15s 454ms/step - loss: 7.9613e-04 - accuracy: 1.0000 - val_loss: 3.0644 - val_accuracy: 0.8750\n",
      "Epoch 11/15\n",
      "33/33 [==============================] - 16s 493ms/step - loss: 8.7505e-06 - accuracy: 1.0000 - val_loss: 3.1606 - val_accuracy: 0.8867\n",
      "Epoch 12/15\n",
      "33/33 [==============================] - 17s 499ms/step - loss: 1.9270e-06 - accuracy: 1.0000 - val_loss: 3.4511 - val_accuracy: 0.8750\n",
      "Epoch 13/15\n",
      "33/33 [==============================] - 17s 506ms/step - loss: 3.6715e-07 - accuracy: 1.0000 - val_loss: 3.4397 - val_accuracy: 0.8945\n",
      "Epoch 14/15\n",
      "33/33 [==============================] - 17s 508ms/step - loss: 8.3757e-08 - accuracy: 1.0000 - val_loss: 3.6710 - val_accuracy: 0.8945\n",
      "Epoch 15/15\n",
      "33/33 [==============================] - 17s 506ms/step - loss: 1.6462e-08 - accuracy: 1.0000 - val_loss: 3.9564 - val_accuracy: 0.8945\n"
     ]
    }
   ],
   "source": [
    "history = model.fit(train_generator, epochs = 15, validation_data=validation_generator)"
   ]
  },
  {
   "cell_type": "code",
   "execution_count": null,
   "metadata": {},
   "outputs": [],
   "source": []
  }
 ],
 "metadata": {
  "interpreter": {
   "hash": "11938c6bc6919ae2720b4d5011047913343b08a43b18698fd82dedb0d4417594"
  },
  "kernelspec": {
   "display_name": "Python 3.9.0 64-bit",
   "language": "python",
   "name": "python3"
  },
  "language_info": {
   "codemirror_mode": {
    "name": "ipython",
    "version": 3
   },
   "file_extension": ".py",
   "mimetype": "text/x-python",
   "name": "python",
   "nbconvert_exporter": "python",
   "pygments_lexer": "ipython3",
   "version": "3.9.0"
  },
  "orig_nbformat": 4
 },
 "nbformat": 4,
 "nbformat_minor": 2
}
